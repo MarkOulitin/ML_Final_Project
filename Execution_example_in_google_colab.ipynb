{
  "nbformat": 4,
  "nbformat_minor": 0,
  "metadata": {
    "colab": {
      "name": "Proj.ipynb",
      "provenance": []
    },
    "kernelspec": {
      "name": "python3",
      "display_name": "Python 3"
    },
    "language_info": {
      "name": "python"
    },
    "accelerator": "GPU"
  },
  "cells": [
    {
      "cell_type": "code",
      "metadata": {
        "id": "41jrGasqelR4"
      },
      "source": [
        "%cd ..\n",
        "!rm -r ./ML_Final_Project\n",
        "!git clone https://github.com/MarkOulitin/ML_Final_Project.git\n",
        "%cd ./ML_Final_Project/\n",
        "!git checkout custom-fit"
      ],
      "execution_count": null,
      "outputs": []
    },
    {
      "cell_type": "code",
      "metadata": {
        "id": "F2P81_PT__i7"
      },
      "source": [
        "!rm Datasets.py"
      ],
      "execution_count": null,
      "outputs": []
    },
    {
      "cell_type": "code",
      "metadata": {
        "colab": {
          "base_uri": "https://localhost:8080/"
        },
        "id": "5WSMXapie3zS",
        "outputId": "64593e3e-fbb6-409d-cd9e-af3e1d195ef8"
      },
      "source": [
        "%%writefile Datasets.py\n",
        "def get_datasets_names ():\n",
        "    return [\n",
        "        'cardiotocography-10clases.csv'\n",
        "    ]"
      ],
      "execution_count": null,
      "outputs": [
        {
          "output_type": "stream",
          "text": [
            "Writing Datasets.py\n"
          ],
          "name": "stdout"
        }
      ]
    },
    {
      "cell_type": "code",
      "metadata": {
        "id": "aS_FLvW7e4D_"
      },
      "source": [
        "!ls\n",
        "%pycat Datasets.py"
      ],
      "execution_count": null,
      "outputs": []
    },
    {
      "cell_type": "code",
      "metadata": {
        "id": "DYcHmwuefFKw"
      },
      "source": [
        "!python main.py Dropout"
      ],
      "execution_count": null,
      "outputs": []
    },
    {
      "cell_type": "code",
      "metadata": {
        "id": "FKksScCZtu5I"
      },
      "source": [
        "!zip -r ./result.zip ./Results\n",
        "!ls\n",
        "from google.colab import files\n",
        "files.download(\"result.zip\")"
      ],
      "execution_count": null,
      "outputs": []
    }
  ]
}